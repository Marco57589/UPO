{
  "nbformat": 4,
  "nbformat_minor": 0,
  "metadata": {
    "colab": {
      "provenance": []
    },
    "kernelspec": {
      "name": "python3",
      "display_name": "Python 3"
    },
    "language_info": {
      "name": "python"
    }
  },
  "cells": [
    {
      "cell_type": "markdown",
      "source": [
        "#20051241"
      ],
      "metadata": {
        "id": "_-fbM1Uz2lMW"
      }
    },
    {
      "cell_type": "markdown",
      "source": [
        "Scrivi una funzione che accetta una lista di numeri\n",
        "e ritorna true se e solo se (sse) tutti i numeri sono distinti <br>\n",
        "Esempi: <br>distinti([1,2,3,4]) -> True\n",
        "        <br>distinti([1,2,3,2]) -> False\n"
      ],
      "metadata": {
        "id": "RLtJp9UWfId_"
      }
    },
    {
      "cell_type": "code",
      "source": [
        "array1 = [1,2,3,4]\n",
        "array2 = [1,2,3,2]"
      ],
      "metadata": {
        "id": "k3kXZm3PfrFJ"
      },
      "execution_count": null,
      "outputs": []
    },
    {
      "cell_type": "code",
      "execution_count": null,
      "metadata": {
        "id": "AAhpBq2PfBwQ"
      },
      "outputs": [],
      "source": [
        "def check_equal_value(array):\n",
        "  for i in array:\n",
        "    if array.count(i) > 1:\n",
        "      return False #uno uguale\n",
        "\n",
        "  return True # tutti diversi\n"
      ]
    },
    {
      "cell_type": "code",
      "source": [
        "check_equal_value(array2)"
      ],
      "metadata": {
        "colab": {
          "base_uri": "https://localhost:8080/"
        },
        "id": "HejjXAzAgGXR",
        "outputId": "fea46931-1684-4c01-c352-695ff29818b6"
      },
      "execution_count": null,
      "outputs": [
        {
          "output_type": "execute_result",
          "data": {
            "text/plain": [
              "False"
            ]
          },
          "metadata": {},
          "execution_count": 59
        }
      ]
    },
    {
      "cell_type": "markdown",
      "source": [
        "Scrivi una funzione che ritorna il numero cifre di un intero<br>\n",
        "Esempi: <br>cifre(0) -> 1\n",
        "       <br>cifre(1003) => 4\n"
      ],
      "metadata": {
        "id": "vsqNhUlejO9q"
      }
    },
    {
      "cell_type": "code",
      "source": [
        "def number_ength(n: int):\n",
        "  return len(str(n))  #converto in stringa e guardo la lunghezza"
      ],
      "metadata": {
        "id": "Ldgtm_8Pjdvw"
      },
      "execution_count": null,
      "outputs": []
    },
    {
      "cell_type": "code",
      "source": [
        "#number_length(0)\n",
        "number_length(1003)"
      ],
      "metadata": {
        "colab": {
          "base_uri": "https://localhost:8080/"
        },
        "id": "PLlDOyxDjiON",
        "outputId": "dd940b35-df20-475e-91e8-c9d8fc832a7f"
      },
      "execution_count": null,
      "outputs": [
        {
          "output_type": "execute_result",
          "data": {
            "text/plain": [
              "4"
            ]
          },
          "metadata": {},
          "execution_count": 66
        }
      ]
    },
    {
      "cell_type": "markdown",
      "source": [
        "Scrivi una funzione che accetta un int e ritorna il numero\n",
        "di zeri consecutivi con cui finisce.\n",
        "Esempi: <br>last_zeros(123) -> 0\n",
        "        <br>last_zeros(1200086000) -> 3\n",
        "        <br>last_zeros(-100) -> 2\n",
        "        <br>last_zeros(0) = 1"
      ],
      "metadata": {
        "id": "Xhs9MjQTkE0T"
      }
    },
    {
      "cell_type": "code",
      "source": [
        "def last_zeros(num):\n",
        "  countedZeros = 0\n",
        "  temp = -1\n",
        "  num = str(num)[::-1] #inverto la lista cosi che l'ultima serie risulti la prima\n",
        "\n",
        "  for i in num:\n",
        "    if int(i) == 0:\n",
        "        if temp == -1:\n",
        "          countedZeros += 1\n",
        "    else:\n",
        "      if countedZeros != 0:\n",
        "        temp = 0\n",
        "      else:\n",
        "        pass\n",
        "\n",
        "  return countedZeros\n",
        "\n",
        "#last_zeros(1200086000) #risultato 3\n",
        "#last_zeros(120000086000) #risultato 3\n",
        "last_zeros(12000860000011) #risultato 5"
      ],
      "metadata": {
        "colab": {
          "base_uri": "https://localhost:8080/"
        },
        "id": "pjv_PqGxkK1d",
        "outputId": "2cb3b3f5-7012-4384-8de9-c48b376abee4"
      },
      "execution_count": null,
      "outputs": [
        {
          "output_type": "execute_result",
          "data": {
            "text/plain": [
              "5"
            ]
          },
          "metadata": {},
          "execution_count": 8
        }
      ]
    },
    {
      "cell_type": "markdown",
      "source": [
        "Scrivi una funziona che conta la frequenza di tutte la parole in una stringa\n",
        "input: stringa con parole separati da spazi\n",
        "output: dizionario con coppie (parola, numero di occorenza)  \n",
        "Se str=\"mele  rab  dfgghh mele arance   ddfsfs arance\"\n",
        "freq(str) => {'mele': 2, 'rab': 1, 'dfgghh': 1, 'arance': 2, 'ddfsfs': 1}"
      ],
      "metadata": {
        "id": "1CIa8GRxuw2_"
      }
    },
    {
      "cell_type": "code",
      "source": [
        "def freq(stringa: str):\n",
        "  dic = {a:stringa.count(a) for a in stringa.split()}\n",
        "  return dic\n",
        "\n",
        "\n",
        "str = \"mele  rab  dfgghh mele arance   ddfsfs arance\"\n",
        "dic = freq(str)\n",
        "print(dic)"
      ],
      "metadata": {
        "colab": {
          "base_uri": "https://localhost:8080/"
        },
        "id": "HYiefHBnu1Ki",
        "outputId": "43cabf78-a380-46b6-f7a6-163b5b39a465"
      },
      "execution_count": 1,
      "outputs": [
        {
          "output_type": "stream",
          "name": "stdout",
          "text": [
            "{'mele': 2, 'rab': 1, 'dfgghh': 1, 'arance': 2, 'ddfsfs': 1}\n"
          ]
        }
      ]
    },
    {
      "cell_type": "markdown",
      "source": [
        "Crea una funzione che ha due parametri, assumi che siano stringhe.\n",
        "Ritorna una tupla con due stringhe che sono le due stringhe di input\n",
        "con il loro primo carattere swappato (l'uno con l'altro).\n",
        "Se uno dei due parametri e' una stringa vuota ritorna None <br>\n",
        "Esempio: <br>fn1('foo','bar') ritorna ('boo','far')"
      ],
      "metadata": {
        "id": "89cR-RoawQhb"
      }
    },
    {
      "cell_type": "code",
      "source": [
        "def string_to_tuple(stringa1: str, stringa2: str):\n",
        "  if len(stringa1) == 0 or len(stringa2) == 0:\n",
        "    return None\n",
        "  else:\n",
        "    tup = (stringa2[0]+stringa1[1::], stringa1[0]+stringa2[1::])\n",
        "    return tup\n",
        "\n",
        "tup = string_to_tuple('foo', 'bar')\n",
        "print(tup)"
      ],
      "metadata": {
        "colab": {
          "base_uri": "https://localhost:8080/"
        },
        "id": "615TLk_GwUup",
        "outputId": "bdc25b41-beac-4d11-b05a-916cc761e8ef"
      },
      "execution_count": null,
      "outputs": [
        {
          "output_type": "execute_result",
          "data": {
            "text/plain": [
              "('boo', 'far')"
            ]
          },
          "metadata": {},
          "execution_count": 108
        }
      ]
    },
    {
      "cell_type": "markdown",
      "source": [
        "Data una stringa di lunghezza divisibile per 3, ritorna una tupla con il primo terzo, il terzo di mezzo, e l'ultimo terzo della stringa.\n",
        "Se la lunghezza non e' divisibile per 3, oppure e' 0, ritorna None <br>\n",
        "Esempio: <br>fn('abcdef') => ('ab','cd','ef')\n",
        "<br>st = st + 'x' * ((3-len(st)) % 3)"
      ],
      "metadata": {
        "id": "Wmub-YHAw6hQ"
      }
    },
    {
      "cell_type": "code",
      "source": [
        "def split_in_3(stringa: str):\n",
        "  if len(stringa) %3 == 1 or len(stringa) == 0:\n",
        "    return None\n",
        "  else:\n",
        "    passo = round(len(stringa)/3)\n",
        "    tup = (stringa[0:passo], stringa[passo: (passo*2)], stringa[(passo*2)::])\n",
        "    return tup\n",
        "\n",
        "tup = split_in_3('abcdef')\n",
        "print(tup)"
      ],
      "metadata": {
        "id": "NNAL7v5dw_z0",
        "colab": {
          "base_uri": "https://localhost:8080/"
        },
        "outputId": "b81c9577-f1ff-4703-9c35-90122660d076"
      },
      "execution_count": 2,
      "outputs": [
        {
          "output_type": "stream",
          "name": "stdout",
          "text": [
            "('ab', 'cd', 'ef')\n"
          ]
        }
      ]
    }
  ]
}
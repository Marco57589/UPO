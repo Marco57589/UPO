{
  "nbformat": 4,
  "nbformat_minor": 0,
  "metadata": {
    "colab": {
      "provenance": []
    },
    "kernelspec": {
      "name": "python3",
      "display_name": "Python 3"
    },
    "language_info": {
      "name": "python"
    }
  },
  "cells": [
    {
      "cell_type": "code",
      "source": [
        "a = \"Winter\"\n",
        "b = \"is coming\""
      ],
      "metadata": {
        "id": "_FsLeHwPX24m"
      },
      "execution_count": 6,
      "outputs": []
    },
    {
      "cell_type": "markdown",
      "source": [
        "Crea un variabile c con valore \"Winter is coming\" utilizzando string\n",
        "\n",
        "---\n",
        "\n"
      ],
      "metadata": {
        "id": "dB9W_MFcXyNq"
      }
    },
    {
      "cell_type": "code",
      "execution_count": 7,
      "metadata": {
        "colab": {
          "base_uri": "https://localhost:8080/",
          "height": 36
        },
        "id": "2wxNJeCHXhZU",
        "outputId": "41c0c3d4-eed8-4ed4-acac-8a41dbc96890"
      },
      "outputs": [
        {
          "output_type": "execute_result",
          "data": {
            "text/plain": [
              "'Winteris coming'"
            ],
            "application/vnd.google.colaboratory.intrinsic+json": {
              "type": "string"
            }
          },
          "metadata": {},
          "execution_count": 7
        }
      ],
      "source": [
        "c = a + b\n",
        "c #print"
      ]
    },
    {
      "cell_type": "markdown",
      "source": [
        "Crea un variabile d con valore \"WinterWinterWinter\""
      ],
      "metadata": {
        "id": "_qEuBlogX_cg"
      }
    },
    {
      "cell_type": "code",
      "source": [
        "c = a*3\n",
        "c"
      ],
      "metadata": {
        "colab": {
          "base_uri": "https://localhost:8080/",
          "height": 36
        },
        "id": "Q1oWBJ70YESJ",
        "outputId": "533b93d2-1df2-419a-c43b-6f9a50ae46c8"
      },
      "execution_count": 8,
      "outputs": [
        {
          "output_type": "execute_result",
          "data": {
            "text/plain": [
              "'WinterWinterWinter'"
            ],
            "application/vnd.google.colaboratory.intrinsic+json": {
              "type": "string"
            }
          },
          "metadata": {},
          "execution_count": 8
        }
      ]
    },
    {
      "cell_type": "markdown",
      "source": [
        "Stampa la lunghezza di c"
      ],
      "metadata": {
        "id": "DYSWASubYJUB"
      }
    },
    {
      "cell_type": "code",
      "source": [
        "print(len(c))"
      ],
      "metadata": {
        "colab": {
          "base_uri": "https://localhost:8080/"
        },
        "id": "i-Rmy_cZYLGW",
        "outputId": "a534f88b-507b-4ad9-a06a-c1508d96e5a2"
      },
      "execution_count": 9,
      "outputs": [
        {
          "output_type": "stream",
          "name": "stdout",
          "text": [
            "18\n"
          ]
        }
      ]
    },
    {
      "cell_type": "markdown",
      "source": [
        "Controlla se c contiene il carattere 'a', 'g', 'w'"
      ],
      "metadata": {
        "id": "P3LxzPstYOsT"
      }
    },
    {
      "cell_type": "code",
      "source": [
        "isIn = 'w'.lower() in c.lower() #ignoro le maiuscole\n",
        "\n",
        "if(isIn):\n",
        "  print(\"carattere presente\")\n",
        "else:\n",
        "  print(\"carattere non presente\")"
      ],
      "metadata": {
        "colab": {
          "base_uri": "https://localhost:8080/"
        },
        "id": "1cU4SlA3YRny",
        "outputId": "0ae6e951-5ba0-4016-dca4-e17c3b62c3a1"
      },
      "execution_count": 10,
      "outputs": [
        {
          "output_type": "stream",
          "name": "stdout",
          "text": [
            "carattere presente\n"
          ]
        }
      ]
    },
    {
      "cell_type": "markdown",
      "source": [
        "Stampa il terzo e il terzultimo carattere di c"
      ],
      "metadata": {
        "id": "u6QG96lQZDzg"
      }
    },
    {
      "cell_type": "code",
      "source": [
        "print(f\"Terzo carattere: {c[2]}, \\nTerzultimo carattere: {c[len(c)-3]}\")"
      ],
      "metadata": {
        "colab": {
          "base_uri": "https://localhost:8080/"
        },
        "id": "AFC6xpf8ZFmG",
        "outputId": "4cc6e272-ec1e-48c7-b8dd-9dd62c1bd03b"
      },
      "execution_count": 11,
      "outputs": [
        {
          "output_type": "stream",
          "name": "stdout",
          "text": [
            "Terzo carattere: n, \n",
            "Terzultimo carattere: t\n"
          ]
        }
      ]
    },
    {
      "cell_type": "markdown",
      "source": [
        "Provate cosa ritorna min(c) e max(c)"
      ],
      "metadata": {
        "id": "3pw4o4t4ZmfU"
      }
    },
    {
      "cell_type": "code",
      "source": [
        "print(f'min c: {min(c)} max c: {max(c)}')"
      ],
      "metadata": {
        "colab": {
          "base_uri": "https://localhost:8080/"
        },
        "id": "KG4jXNmKZmCa",
        "outputId": "c63801c8-8146-4b8a-b3a0-849c822178d5"
      },
      "execution_count": 12,
      "outputs": [
        {
          "output_type": "stream",
          "name": "stdout",
          "text": [
            "min c: W max c: t\n"
          ]
        }
      ]
    },
    {
      "cell_type": "markdown",
      "source": [
        "Stampa quanti 'i' ci sono in c"
      ],
      "metadata": {
        "id": "PjRj6SSnZ5zy"
      }
    },
    {
      "cell_type": "code",
      "source": [
        "c.count('i')"
      ],
      "metadata": {
        "colab": {
          "base_uri": "https://localhost:8080/"
        },
        "id": "lmDq8s34Z5kL",
        "outputId": "cbc7a574-63db-4e87-f584-9262ccc98303"
      },
      "execution_count": 13,
      "outputs": [
        {
          "output_type": "execute_result",
          "data": {
            "text/plain": [
              "3"
            ]
          },
          "metadata": {},
          "execution_count": 13
        }
      ]
    },
    {
      "cell_type": "markdown",
      "source": [
        "Stampa l'indice del primo 'i' in c"
      ],
      "metadata": {
        "id": "gx-fFWysaJ_M"
      }
    },
    {
      "cell_type": "code",
      "source": [
        "c.index('i')"
      ],
      "metadata": {
        "colab": {
          "base_uri": "https://localhost:8080/"
        },
        "id": "Z8i-DsXpaLbY",
        "outputId": "0b7769d8-c4d9-400e-c9c0-c98b468f6186"
      },
      "execution_count": 14,
      "outputs": [
        {
          "output_type": "execute_result",
          "data": {
            "text/plain": [
              "1"
            ]
          },
          "metadata": {},
          "execution_count": 14
        }
      ]
    },
    {
      "cell_type": "markdown",
      "source": [
        "Stampa quanti 'in' ci sono in c"
      ],
      "metadata": {
        "id": "dR-8ESd7aNk3"
      }
    },
    {
      "cell_type": "code",
      "source": [
        "c.count('in')"
      ],
      "metadata": {
        "colab": {
          "base_uri": "https://localhost:8080/"
        },
        "id": "MjaI5orYaW0A",
        "outputId": "000e4c88-c21c-47bf-9148-87075db8a911"
      },
      "execution_count": 15,
      "outputs": [
        {
          "output_type": "execute_result",
          "data": {
            "text/plain": [
              "3"
            ]
          },
          "metadata": {},
          "execution_count": 15
        }
      ]
    },
    {
      "cell_type": "markdown",
      "source": [
        "Crea una funzione che prende una stringa come parametro, e ritorna la stringa in cui i caratteri di indice dispari sono rimossi. Se la stringa e' vuota ritorna None.Attenzione le stringhe sono immutabili\n",
        "Esempio: fn2('abcdefg') = 'aceg'"
      ],
      "metadata": {
        "id": "PUzq7sOJacTk"
      }
    },
    {
      "cell_type": "code",
      "source": [
        "def removeOdd(stringa: str):\n",
        "  if len(stringa) == 0:\n",
        "    return None\n",
        "  else:\n",
        "    return stringa[0::2] #slicing partendo da 0 con passo 2\n"
      ],
      "metadata": {
        "id": "ckdwHC5batOX"
      },
      "execution_count": 16,
      "outputs": []
    },
    {
      "cell_type": "code",
      "source": [
        "s = \"abcdefg\"\n",
        "removeOdd(s)"
      ],
      "metadata": {
        "colab": {
          "base_uri": "https://localhost:8080/",
          "height": 36
        },
        "id": "CZ8fhg25ay3T",
        "outputId": "c77fb1e0-acde-40d5-e4b3-16493ffa633d"
      },
      "execution_count": 17,
      "outputs": [
        {
          "output_type": "execute_result",
          "data": {
            "text/plain": [
              "'aceg'"
            ],
            "application/vnd.google.colaboratory.intrinsic+json": {
              "type": "string"
            }
          },
          "metadata": {},
          "execution_count": 17
        }
      ]
    },
    {
      "cell_type": "markdown",
      "source": [
        "Crea una funziona come quella sopra, ma rimuove i caratteri con indice pari e ritorna il resto in ordine inverso. Se la lista non ha almeno 2 caratteri ritorna None Esempio: fn3('abcdefg') = 'fdb'"
      ],
      "metadata": {
        "id": "5FRavv3YcHc1"
      }
    },
    {
      "cell_type": "code",
      "source": [
        "def removeEvenAndReverse(stringa: str):\n",
        "  if len(stringa) == 0:\n",
        "    return None\n",
        "  else:\n",
        "    stringa = stringa[1::2]  #slicing partendo da 1 con passo 2\n",
        "    return stringa[::-1]"
      ],
      "metadata": {
        "id": "vfu9HQSHcVvK"
      },
      "execution_count": 18,
      "outputs": []
    },
    {
      "cell_type": "code",
      "source": [
        "removeEvenAndReverse(s)"
      ],
      "metadata": {
        "colab": {
          "base_uri": "https://localhost:8080/",
          "height": 36
        },
        "id": "LUMYZmMocLxY",
        "outputId": "67c9865e-58fe-4d7d-8d75-6d785950196a"
      },
      "execution_count": 19,
      "outputs": [
        {
          "output_type": "execute_result",
          "data": {
            "text/plain": [
              "'fdb'"
            ],
            "application/vnd.google.colaboratory.intrinsic+json": {
              "type": "string"
            }
          },
          "metadata": {},
          "execution_count": 19
        }
      ]
    },
    {
      "cell_type": "markdown",
      "source": [
        "Applica le due funzioni precedenti alla stringa 'teovruoj'"
      ],
      "metadata": {
        "id": "avE7UfLoc-cN"
      }
    },
    {
      "cell_type": "code",
      "source": [
        "str = 'teovruoj'\n",
        "str1 = removeOdd(str)\n",
        "str2 = removeEvenAndReverse(str)\n",
        "print(f\"STR1: {str1}  \\nSTR2: {str2}\")"
      ],
      "metadata": {
        "colab": {
          "base_uri": "https://localhost:8080/"
        },
        "id": "9mvylEbec-0b",
        "outputId": "fda29a1a-fedb-473a-e01f-0892578f2b32"
      },
      "execution_count": 36,
      "outputs": [
        {
          "output_type": "stream",
          "name": "stdout",
          "text": [
            "STR1: toro  \n",
            "STR2: juve\n"
          ]
        }
      ]
    },
    {
      "cell_type": "markdown",
      "source": [
        "Ora crea una funzione per fare l'inverso; cioe' per mescolare due stringhe della stessa lunghezza, la prima nell'ordine originale e la seconda al rovescio. Se gli input non sono idonei, ritorna None\n",
        "Esempio: fn4(str1,str2) = 'teovruoj'"
      ],
      "metadata": {
        "id": "Pd8ZKRh7dq-h"
      }
    },
    {
      "cell_type": "code",
      "source": [
        "def concatAndReverse(str1: str, str2: str):\n",
        "  s=\"\"\n",
        "  if len(str1) == len(str2):\n",
        "    str2 = str2[::-1]\n",
        "    for x in range(len(str1)):\n",
        "      s += str1[x] + str2[x]\n",
        "    return s\n",
        "  else:\n",
        "    return None"
      ],
      "metadata": {
        "id": "p8AznjZAdvur"
      },
      "execution_count": 52,
      "outputs": []
    },
    {
      "cell_type": "code",
      "source": [
        "concatAndReverse(str1, str2)"
      ],
      "metadata": {
        "colab": {
          "base_uri": "https://localhost:8080/",
          "height": 36
        },
        "id": "4uQatWcBeR-D",
        "outputId": "86e6802b-f809-476a-87b1-ca7c24aa043e"
      },
      "execution_count": 53,
      "outputs": [
        {
          "output_type": "execute_result",
          "data": {
            "text/plain": [
              "'teovruoj'"
            ],
            "application/vnd.google.colaboratory.intrinsic+json": {
              "type": "string"
            }
          },
          "metadata": {},
          "execution_count": 53
        }
      ]
    }
  ]
}